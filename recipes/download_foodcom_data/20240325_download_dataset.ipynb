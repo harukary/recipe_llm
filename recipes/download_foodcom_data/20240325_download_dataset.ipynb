{
 "cells": [
  {
   "cell_type": "code",
   "execution_count": 3,
   "metadata": {},
   "outputs": [
    {
     "name": "stdout",
     "output_type": "stream",
     "text": [
      "Warning: Looks like you're using an outdated API Version, please consider updating (server 1.6.7 / client 1.6.6)\n",
      "ref                                                             title                                              size  lastUpdated          downloadCount  voteCount  usabilityRating  \n",
      "--------------------------------------------------------------  ------------------------------------------------  -----  -------------------  -------------  ---------  ---------------  \n",
      "kaggle/recipe-ingredients-dataset                               Recipe Ingredients Dataset                          2MB  2017-01-19 02:55:45          19004        247  0.75             \n",
      "shuyangli94/food-com-recipes-and-user-interactions              Food.com Recipes and Interactions                 267MB  2019-11-08 01:18:21          34555        537  1.0              \n",
      "jtrofe/beer-recipes                                             Brewer's Friend Beer Recipes                        4MB  2018-04-12 16:33:01          10009        284  0.7352941        \n",
      "irkaal/foodcom-recipes-and-reviews                              Food.com - Recipes and Reviews                    723MB  2020-12-28 15:56:04           6042         78  1.0              \n",
      "hugodarwood/epirecipes                                          Epicurious - Recipes with Rating and Nutrition     11MB  2017-02-21 09:57:30          17281        255  0.7058824        \n",
      "canggih/indonesian-food-recipes                                 Indonesian Food Recipes                             4MB  2019-10-17 23:17:12           3355         85  1.0              \n",
      "kanishk307/6000-indian-food-recipes-dataset                     6000+ Indian Food Recipes Dataset                   9MB  2020-10-24 01:08:23           6175        115  0.9705882        \n",
      "sterby/german-recipes-dataset                                   German Recipes Dataset                              5MB  2019-03-06 16:25:22           4921         73  1.0              \n",
      "paultimothymooney/recipenlg                                     RecipeNLG (cooking recipes dataset)               643MB  2020-12-09 23:58:31           2769         55  0.8235294        \n",
      "pes12017000148/food-ingredients-and-recipe-dataset-with-images  Food Ingredients and Recipes Dataset with Images  206MB  2021-02-19 12:05:56           6053         72  1.0              \n",
      "wilmerarltstrmberg/recipe-dataset-over-2m                       Recipe Dataset (over 2M) Food                     635MB  2023-06-27 20:20:06           1642         53  1.0              \n",
      "olgabelitskaya/python-recipes                                   Python Recipes                                     71KB  2022-08-01 14:43:58            171         25  0.6875           \n",
      "olgabelitskaya/html-recipes                                     HTML Recipes                                      176KB  2021-01-10 15:26:49            283         15  0.625            \n",
      "michau96/recipes-from-reddit                                    Recipes from Reddit                                 2MB  2022-07-19 15:55:02            414         31  1.0              \n",
      "thedevastator/healthy-diet-recipes-a-comprehensive-dataset      Diets, Recipes And Their Nutrients                378KB  2022-10-18 00:57:22           2479         45  1.0              \n",
      "zsinghrahulk/recipe-reviews                                     Recipe reviews                                      2MB  2023-12-06 06:31:01             36         13  0.9411765        \n",
      "rajaraman6195/recipes                                           recipes                                           158MB  2019-08-30 08:07:37            421         12  0.5625           \n",
      "shubham2703/recipe-review-and-user-feedback-dataset             User Recipe Rating                                  2MB  2024-01-14 19:09:41             24         10  1.0              \n",
      "shuyangli94/foodcom-recipes-with-search-terms-and-tags          Food.com Recipes with Search Terms and Tags       231MB  2021-10-28 20:59:48           1033         31  1.0              \n",
      "motahareshokri/cookbook-reviews                                 🍲 Cookbook Reviews 🍝 : Sentiment Analysis           2MB  2024-01-22 08:35:41            102         39  0.9411765        \n"
     ]
    }
   ],
   "source": [
    "!kaggle datasets list -s recipe"
   ]
  },
  {
   "cell_type": "code",
   "execution_count": 5,
   "metadata": {},
   "outputs": [],
   "source": [
    "# !kaggle datasets download --unzip -d shuyangli94/food-com-recipes-and-user-interactions -p ../../data/foodcom/"
   ]
  },
  {
   "cell_type": "code",
   "execution_count": 7,
   "metadata": {},
   "outputs": [],
   "source": [
    "# !kaggle kernels pull etsc9287/food-com-eda-and-text-analysis"
   ]
  },
  {
   "cell_type": "code",
   "execution_count": 2,
   "metadata": {},
   "outputs": [],
   "source": [
    "# !kaggle kernels pull aayushmishra1512/food-recommender"
   ]
  },
  {
   "cell_type": "code",
   "execution_count": 2,
   "metadata": {},
   "outputs": [],
   "source": [
    "# !kaggle kernels pull ngohoantamhuy/food-recommendation-systems"
   ]
  }
 ],
 "metadata": {
  "kernelspec": {
   "display_name": ".venv",
   "language": "python",
   "name": "python3"
  },
  "language_info": {
   "codemirror_mode": {
    "name": "ipython",
    "version": 3
   },
   "file_extension": ".py",
   "mimetype": "text/x-python",
   "name": "python",
   "nbconvert_exporter": "python",
   "pygments_lexer": "ipython3",
   "version": "3.10.13"
  }
 },
 "nbformat": 4,
 "nbformat_minor": 2
}
