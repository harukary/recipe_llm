{
 "cells": [
  {
   "cell_type": "code",
   "execution_count": 1,
   "metadata": {},
   "outputs": [
    {
     "data": {
      "text/plain": [
       "True"
      ]
     },
     "execution_count": 1,
     "metadata": {},
     "output_type": "execute_result"
    }
   ],
   "source": [
    "from dotenv import load_dotenv, find_dotenv; load_dotenv(find_dotenv())"
   ]
  },
  {
   "cell_type": "code",
   "execution_count": 2,
   "metadata": {},
   "outputs": [],
   "source": [
    "import json, tqdm, time\n",
    "from extract_from_html import recipe_chain, load_doc\n",
    "from recipe_schema import RecipeCreate\n",
    "from typing import Optional\n",
    "from langchain_core.runnables import RunnableLambda, RunnablePassthrough\n",
    "\n",
    "chain = RunnableLambda(load_doc) | {'web_text': RunnablePassthrough()} | recipe_chain"
   ]
  },
  {
   "cell_type": "code",
   "execution_count": 3,
   "metadata": {},
   "outputs": [],
   "source": [
    "class RecipeWithURL(RecipeCreate):\n",
    "    url: Optional[str]\n",
    "    image_url: Optional[str]"
   ]
  },
  {
   "cell_type": "code",
   "execution_count": 4,
   "metadata": {},
   "outputs": [],
   "source": [
    "# with open('data/errors.json', 'r') as f:\n",
    "#     errors = json.load(f)"
   ]
  },
  {
   "cell_type": "code",
   "execution_count": 5,
   "metadata": {},
   "outputs": [],
   "source": [
    "# errors"
   ]
  },
  {
   "cell_type": "code",
   "execution_count": 6,
   "metadata": {},
   "outputs": [],
   "source": [
    "# errors2 = []\n",
    "# for recipe in tqdm.tqdm(errors):\n",
    "#     try:\n",
    "#         res = chain.invoke(recipe['url'])\n",
    "#         print(res)\n",
    "#         # break\n",
    "#         r = RecipeWithURL(url=recipe['url'], image_url=recipe['image'], **res).dict()\n",
    "#         r['name'] = recipe['title']\n",
    "#         r['provider'] = 'lettuce_club'\n",
    "#         r['id'] = recipe['id']\n",
    "#         r['genre'] = recipe['genre']\n",
    "#         with open(f\"data/recipes/{r['id'].zfill(10)}.json\", 'w') as f:\n",
    "#             f.write(json.dumps(r, indent=4, ensure_ascii=False))\n",
    "#         time.sleep(1.)\n",
    "#     except Exception as e:\n",
    "#         errors2.append(recipe)\n",
    "#         print('Error:', e, recipe['url'])\n",
    "#     # break"
   ]
  },
  {
   "cell_type": "code",
   "execution_count": 7,
   "metadata": {},
   "outputs": [],
   "source": [
    "# len(errors2)"
   ]
  },
  {
   "cell_type": "code",
   "execution_count": 8,
   "metadata": {},
   "outputs": [],
   "source": [
    "# with open('data/errors2.json', 'w') as f:\n",
    "#     f.write(json.dumps(errors2, indent=4, ensure_ascii=False))"
   ]
  },
  {
   "cell_type": "code",
   "execution_count": 9,
   "metadata": {},
   "outputs": [],
   "source": [
    "# with open('data/errors2.json', 'r') as f:\n",
    "#     errors2 = json.load(f)"
   ]
  },
  {
   "cell_type": "code",
   "execution_count": 10,
   "metadata": {},
   "outputs": [],
   "source": [
    "# errors3 = []\n",
    "# for recipe in tqdm.tqdm(errors2):\n",
    "#     try:\n",
    "#         res = chain.invoke(recipe['url'])\n",
    "#         print(res)\n",
    "#         # break\n",
    "#         r = RecipeWithURL(url=recipe['url'], image_url=recipe['image'], **res).dict()\n",
    "#         r['name'] = recipe['title']\n",
    "#         r['provider'] = 'lettuce_club'\n",
    "#         r['id'] = recipe['id']\n",
    "#         r['genre'] = recipe['genre']\n",
    "#         with open(f\"data/recipes/{r['id'].zfill(10)}.json\", 'w') as f:\n",
    "#             f.write(json.dumps(r, indent=4, ensure_ascii=False))\n",
    "#         # break\n",
    "#         time.sleep(1.)\n",
    "#     except Exception as e:\n",
    "#         errors3.append(recipe)\n",
    "#         print('Error:', e, recipe['url'])\n",
    "#     # break"
   ]
  },
  {
   "cell_type": "code",
   "execution_count": 11,
   "metadata": {},
   "outputs": [],
   "source": [
    "# len(errors3)\n",
    "# with open('data/errors3.json', 'w') as f:\n",
    "#     f.write(json.dumps(errors3, indent=4, ensure_ascii=False))"
   ]
  },
  {
   "cell_type": "code",
   "execution_count": 12,
   "metadata": {},
   "outputs": [],
   "source": [
    "# with open('data/errors3.json', 'r') as f:\n",
    "#     errors3 = json.load(f)"
   ]
  },
  {
   "cell_type": "code",
   "execution_count": 13,
   "metadata": {},
   "outputs": [],
   "source": [
    "# errors4 = []\n",
    "# for recipe in tqdm.tqdm(errors3):\n",
    "#     try:\n",
    "#         res = chain.invoke(recipe['url'])\n",
    "#         print(res)\n",
    "#         # break\n",
    "#         r = RecipeWithURL(url=recipe['url'], image_url=recipe['image'], **res).dict()\n",
    "#         r['name'] = recipe['title']\n",
    "#         r['provider'] = 'lettuce_club'\n",
    "#         r['id'] = recipe['id']\n",
    "#         r['genre'] = recipe['genre']\n",
    "#         with open(f\"data/recipes/{r['id'].zfill(10)}.json\", 'w') as f:\n",
    "#             f.write(json.dumps(r, indent=4, ensure_ascii=False))\n",
    "#         time.sleep(1.)\n",
    "#     except Exception as e:\n",
    "#         errors4.append(recipe)\n",
    "#         print('Error:', e, recipe['url'])\n",
    "#     # break"
   ]
  },
  {
   "cell_type": "code",
   "execution_count": 14,
   "metadata": {},
   "outputs": [],
   "source": [
    "# print(len(errors4))\n",
    "# with open('data/errors4.json', 'w') as f:\n",
    "#     f.write(json.dumps(errors4, indent=4, ensure_ascii=False))"
   ]
  },
  {
   "cell_type": "code",
   "execution_count": 15,
   "metadata": {},
   "outputs": [],
   "source": [
    "# with open('data/errors4.json', 'r') as f:\n",
    "#     errors4 = json.load(f)"
   ]
  },
  {
   "cell_type": "code",
   "execution_count": 16,
   "metadata": {},
   "outputs": [],
   "source": [
    "# errors5 = []\n",
    "# for recipe in tqdm.tqdm(errors4):\n",
    "#     try:\n",
    "#         res = chain.invoke(recipe['url'])\n",
    "#         print(res)\n",
    "#         # break\n",
    "#         r = RecipeWithURL(url=recipe['url'], image_url=recipe['image'], **res).dict()\n",
    "#         r['name'] = recipe['title']\n",
    "#         r['provider'] = 'lettuce_club'\n",
    "#         r['id'] = recipe['id']\n",
    "#         r['genre'] = recipe['genre']\n",
    "#         with open(f\"data/recipes/{r['id'].zfill(10)}.json\", 'w') as f:\n",
    "#             f.write(json.dumps(r, indent=4, ensure_ascii=False))\n",
    "#         time.sleep(1.)\n",
    "#     except Exception as e:\n",
    "#         errors5.append(recipe)\n",
    "#         print('Error:', e, recipe['url'])\n",
    "#     # break"
   ]
  },
  {
   "cell_type": "code",
   "execution_count": 17,
   "metadata": {},
   "outputs": [],
   "source": [
    "# print(len(errors5))\n",
    "# with open('data/errors5.json', 'w') as f:\n",
    "#     f.write(json.dumps(errors5, indent=4, ensure_ascii=False))"
   ]
  },
  {
   "cell_type": "code",
   "execution_count": 18,
   "metadata": {},
   "outputs": [],
   "source": [
    "with open('data/errors5.json', 'r') as f:\n",
    "    errors5 = json.load(f)"
   ]
  },
  {
   "cell_type": "code",
   "execution_count": 21,
   "metadata": {},
   "outputs": [
    {
     "data": {
      "text/plain": [
       "[{'url': 'https://www.lettuceclub.net/recipe/dish/4571/',\n",
       "  'image': 'https://www.lettuceclub.net/i/R1/img/dish/1/4571_0_0.jpg?w=350',\n",
       "  'title': 'にらの簡単チヂミ',\n",
       "  'id': '4571',\n",
       "  'genre': 'エスニック'}]"
      ]
     },
     "execution_count": 21,
     "metadata": {},
     "output_type": "execute_result"
    }
   ],
   "source": [
    "errors5"
   ]
  },
  {
   "cell_type": "code",
   "execution_count": 19,
   "metadata": {},
   "outputs": [
    {
     "name": "stderr",
     "output_type": "stream",
     "text": [
      "  0%|          | 0/1 [00:00<?, ?it/s]"
     ]
    },
    {
     "name": "stdout",
     "output_type": "stream",
     "text": [
      "{'name': 'にらの簡単チヂミ', 'recipe_description': '時短でラク。身近な材料ですぐできておつまみにもぴったりなにらの簡単チヂミのレシピです。', 'servings': 2, 'ingredients': [{'name': 'にら', 'quantity': '1束'}, {'name': '卵', 'quantity': '1個'}, {'name': 'たれ(しょうゆ大さじ２、酢大さじ１、万能ねぎの小口切り大さじ１、いりごま[白]小さじ２)'}, {'name': '小麦粉'}, {'name': '塩'}, {'name': 'ごま油'}], 'preparation_steps': ['にらは根元を落とし、4cm長さに切る。根元のかたい部分を切り落とし、切り口を水につけてしばらくおく。吸水してシャキッとなってから調理すると、おいしく仕上がる。', 'ボウルに卵、小麦粉100g、塩小さじ1/2、水適宜を合わせて混ぜ、にらを加えて混ぜる。', 'フライパンにごま油大さじ２を熱し、2を平らに入れる。フライ返しなどで押さえながら焼き、うすく焼き色がついたら返し、裏面も同様にして焼く。食べやすく切って器に盛り、たれの材料を合わせてかける。'], 'category': '野菜のおかず', 'cooking_time': 5, 'kcal': 376, 'cooking_tools': ['フライパン', 'ボウル']}\n"
     ]
    },
    {
     "name": "stderr",
     "output_type": "stream",
     "text": [
      "100%|██████████| 1/1 [00:10<00:00, 10.17s/it]\n"
     ]
    }
   ],
   "source": [
    "errors6 = []\n",
    "for recipe in tqdm.tqdm(errors5):\n",
    "    try:\n",
    "        res = chain.invoke(recipe['url'])\n",
    "        print(res)\n",
    "        # break\n",
    "        r = RecipeWithURL(url=recipe['url'], image_url=recipe['image'], **res).dict()\n",
    "        r['name'] = recipe['title']\n",
    "        r['provider'] = 'lettuce_club'\n",
    "        r['id'] = recipe['id']\n",
    "        r['genre'] = recipe['genre']\n",
    "        with open(f\"data/recipes/{r['id'].zfill(10)}.json\", 'w') as f:\n",
    "            f.write(json.dumps(r, indent=4, ensure_ascii=False))\n",
    "        time.sleep(1.)\n",
    "    except Exception as e:\n",
    "        errors6.append(recipe)\n",
    "        print('Error:', e, recipe['url'])\n",
    "    # break"
   ]
  },
  {
   "cell_type": "code",
   "execution_count": 22,
   "metadata": {},
   "outputs": [
    {
     "data": {
      "text/plain": [
       "{'name': 'にらの簡単チヂミ',\n",
       " 'recipe_description': '時短でラク。身近な材料ですぐできておつまみにもぴったりなにらの簡単チヂミのレシピです。',\n",
       " 'servings': 2,\n",
       " 'ingredients': [{'name': 'にら', 'quantity': '1束'},\n",
       "  {'name': '卵', 'quantity': '1個'},\n",
       "  {'name': 'たれ(しょうゆ大さじ２、酢大さじ１、万能ねぎの小口切り大さじ１、いりごま[白]小さじ２)', 'quantity': ''},\n",
       "  {'name': '小麦粉', 'quantity': ''},\n",
       "  {'name': '塩', 'quantity': ''},\n",
       "  {'name': 'ごま油', 'quantity': ''}],\n",
       " 'preparation_steps': ['にらは根元を落とし、4cm長さに切る。根元のかたい部分を切り落とし、切り口を水につけてしばらくおく。吸水してシャキッとなってから調理すると、おいしく仕上がる。',\n",
       "  'ボウルに卵、小麦粉100g、塩小さじ1/2、水適宜を合わせて混ぜ、にらを加えて混ぜる。',\n",
       "  'フライパンにごま油大さじ２を熱し、2を平らに入れる。フライ返しなどで押さえながら焼き、うすく焼き色がついたら返し、裏面も同様にして焼く。食べやすく切って器に盛り、たれの材料を合わせてかける。'],\n",
       " 'category': '野菜のおかず',\n",
       " 'cooking_time': 5,\n",
       " 'kcal': 376,\n",
       " 'cooking_tools': ['フライパン', 'ボウル'],\n",
       " 'url': 'https://www.lettuceclub.net/recipe/dish/4571/',\n",
       " 'image_url': 'https://www.lettuceclub.net/i/R1/img/dish/1/4571_0_0.jpg?w=350',\n",
       " 'provider': 'lettuce_club',\n",
       " 'id': '4571',\n",
       " 'genre': 'エスニック'}"
      ]
     },
     "execution_count": 22,
     "metadata": {},
     "output_type": "execute_result"
    }
   ],
   "source": [
    "r"
   ]
  }
 ],
 "metadata": {
  "kernelspec": {
   "display_name": ".venv",
   "language": "python",
   "name": "python3"
  },
  "language_info": {
   "codemirror_mode": {
    "name": "ipython",
    "version": 3
   },
   "file_extension": ".py",
   "mimetype": "text/x-python",
   "name": "python",
   "nbconvert_exporter": "python",
   "pygments_lexer": "ipython3",
   "version": "3.10.13"
  }
 },
 "nbformat": 4,
 "nbformat_minor": 2
}
