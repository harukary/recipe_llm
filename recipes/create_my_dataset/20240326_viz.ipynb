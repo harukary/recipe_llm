{
 "cells": [
  {
   "cell_type": "code",
   "execution_count": 1,
   "metadata": {},
   "outputs": [],
   "source": [
    "import datetime\n",
    "import pandas as pd\n",
    "import numpy as np\n",
    "import matplotlib.pyplot as plt\n",
    "from ast import literal_eval"
   ]
  },
  {
   "cell_type": "code",
   "execution_count": 2,
   "metadata": {},
   "outputs": [],
   "source": [
    "recipes = pd.read_csv('../../data/foodcom_recipes.csv')\n",
    "recipes['ingredient_ids'] = recipes['ingredient_ids'].apply(lambda x: literal_eval(x))\n",
    "recipes['technique_ids'] = recipes['technique_ids'].apply(lambda x: literal_eval(x))\n",
    "recipes['ingredient_names'] = recipes['ingredient_names'].apply(lambda x: literal_eval(x))\n",
    "recipes['technique_names'] = recipes['technique_names'].apply(lambda x: literal_eval(x))\n",
    "recipes['steps'] = recipes['steps'].apply(lambda x: literal_eval(x))\n",
    "recipes['tags'] = recipes['tags'].apply(lambda x: literal_eval(x))\n",
    "recipes['submitted'] = recipes['submitted'].apply(lambda x: datetime.datetime.strptime(x,'%Y-%m-%d'))\n",
    "\n",
    "interactions = pd.read_csv('../../data/foodcom_interactions.csv')\n",
    "interactions['date'] = interactions['date'].apply(lambda x: datetime.datetime.strptime(x,'%Y-%m-%d'))\n",
    "\n",
    "recipes['average_rating'] = recipes['recipe_id'].apply(\n",
    "    lambda x: interactions[interactions['recipe_id'] == x]['rating'].mean() if x in interactions['recipe_id'].values else np.nan\n",
    ")\n",
    "\n",
    "recipes['n_rating'] = recipes['recipe_id'].apply(\n",
    "    lambda x: len(interactions[interactions['recipe_id'] == x]) if x in interactions['recipe_id'].values else 0\n",
    ")"
   ]
  },
  {
   "cell_type": "code",
   "execution_count": 3,
   "metadata": {},
   "outputs": [
    {
     "name": "stdout",
     "output_type": "stream",
     "text": [
      "178265 718379\n"
     ]
    },
    {
     "data": {
      "text/html": [
       "<div>\n",
       "<style scoped>\n",
       "    .dataframe tbody tr th:only-of-type {\n",
       "        vertical-align: middle;\n",
       "    }\n",
       "\n",
       "    .dataframe tbody tr th {\n",
       "        vertical-align: top;\n",
       "    }\n",
       "\n",
       "    .dataframe thead th {\n",
       "        text-align: right;\n",
       "    }\n",
       "</style>\n",
       "<table border=\"1\" class=\"dataframe\">\n",
       "  <thead>\n",
       "    <tr style=\"text-align: right;\">\n",
       "      <th></th>\n",
       "      <th>recipe_id</th>\n",
       "      <th>recipe_name</th>\n",
       "      <th>description</th>\n",
       "      <th>n_steps</th>\n",
       "      <th>n_ingredients</th>\n",
       "      <th>ingredient_ids</th>\n",
       "      <th>technique_ids</th>\n",
       "      <th>steps</th>\n",
       "      <th>minutes</th>\n",
       "      <th>contributor_id</th>\n",
       "      <th>...</th>\n",
       "      <th>sugar</th>\n",
       "      <th>sodium</th>\n",
       "      <th>protein</th>\n",
       "      <th>saturated fat</th>\n",
       "      <th>carbohydrates</th>\n",
       "      <th>ingredient_names</th>\n",
       "      <th>technique_names</th>\n",
       "      <th>average_rating</th>\n",
       "      <th>n_ratings</th>\n",
       "      <th>n_rating</th>\n",
       "    </tr>\n",
       "  </thead>\n",
       "  <tbody>\n",
       "    <tr>\n",
       "      <th>0</th>\n",
       "      <td>424415</td>\n",
       "      <td>aromatic basmati rice  rice cooker</td>\n",
       "      <td>from the ultimate rice cooker cookbook.  the a...</td>\n",
       "      <td>6</td>\n",
       "      <td>5</td>\n",
       "      <td>[389, 7655, 6270, 1527, 3406]</td>\n",
       "      <td>[9, 16, 51]</td>\n",
       "      <td>[rinse the rice in a fine strainer , then drai...</td>\n",
       "      <td>61</td>\n",
       "      <td>496803</td>\n",
       "      <td>...</td>\n",
       "      <td>2.0</td>\n",
       "      <td>8.0</td>\n",
       "      <td>9.0</td>\n",
       "      <td>1.0</td>\n",
       "      <td>15.0</td>\n",
       "      <td>[basmati rice, water, salt, cinnamon stick, gr...</td>\n",
       "      <td>[combine, drain, strain]</td>\n",
       "      <td>4.833333</td>\n",
       "      <td>6</td>\n",
       "      <td>6</td>\n",
       "    </tr>\n",
       "  </tbody>\n",
       "</table>\n",
       "<p>1 rows × 24 columns</p>\n",
       "</div>"
      ],
      "text/plain": [
       "   recipe_id                         recipe_name  \\\n",
       "0     424415  aromatic basmati rice  rice cooker   \n",
       "\n",
       "                                         description  n_steps  n_ingredients  \\\n",
       "0  from the ultimate rice cooker cookbook.  the a...        6              5   \n",
       "\n",
       "                  ingredient_ids technique_ids  \\\n",
       "0  [389, 7655, 6270, 1527, 3406]   [9, 16, 51]   \n",
       "\n",
       "                                               steps  minutes  contributor_id  \\\n",
       "0  [rinse the rice in a fine strainer , then drai...       61          496803   \n",
       "\n",
       "   ... sugar sodium  protein  saturated fat  carbohydrates  \\\n",
       "0  ...   2.0    8.0      9.0            1.0           15.0   \n",
       "\n",
       "                                    ingredient_names  \\\n",
       "0  [basmati rice, water, salt, cinnamon stick, gr...   \n",
       "\n",
       "            technique_names  average_rating  n_ratings n_rating  \n",
       "0  [combine, drain, strain]        4.833333          6        6  \n",
       "\n",
       "[1 rows x 24 columns]"
      ]
     },
     "metadata": {},
     "output_type": "display_data"
    },
    {
     "data": {
      "text/html": [
       "<div>\n",
       "<style scoped>\n",
       "    .dataframe tbody tr th:only-of-type {\n",
       "        vertical-align: middle;\n",
       "    }\n",
       "\n",
       "    .dataframe tbody tr th {\n",
       "        vertical-align: top;\n",
       "    }\n",
       "\n",
       "    .dataframe thead th {\n",
       "        text-align: right;\n",
       "    }\n",
       "</style>\n",
       "<table border=\"1\" class=\"dataframe\">\n",
       "  <thead>\n",
       "    <tr style=\"text-align: right;\">\n",
       "      <th></th>\n",
       "      <th>user_id</th>\n",
       "      <th>recipe_id</th>\n",
       "      <th>rating</th>\n",
       "      <th>date</th>\n",
       "    </tr>\n",
       "  </thead>\n",
       "  <tbody>\n",
       "    <tr>\n",
       "      <th>0</th>\n",
       "      <td>2046</td>\n",
       "      <td>4684</td>\n",
       "      <td>5.0</td>\n",
       "      <td>2000-02-25</td>\n",
       "    </tr>\n",
       "  </tbody>\n",
       "</table>\n",
       "</div>"
      ],
      "text/plain": [
       "   user_id  recipe_id  rating       date\n",
       "0     2046       4684     5.0 2000-02-25"
      ]
     },
     "metadata": {},
     "output_type": "display_data"
    }
   ],
   "source": [
    "print(len(recipes), len(interactions))\n",
    "display(recipes.head(1))\n",
    "display(interactions.head(1))"
   ]
  },
  {
   "cell_type": "code",
   "execution_count": 4,
   "metadata": {},
   "outputs": [
    {
     "data": {
      "image/png": "[encoded data removed]",
      "text/plain": [
       "<Figure size 1000x600 with 1 Axes>"
      ]
     },
     "metadata": {},
     "output_type": "display_data"
    }
   ],
   "source": [
    "plt.figure(figsize=(10, 6))\n",
    "recipes['submitted'].hist(bins=50, color='skyblue', edgecolor='black')\n",
    "plt.title('Histogram of Recipe Submission Dates')\n",
    "plt.xlabel('Date')\n",
    "plt.ylabel('Number of Recipes Submitted')\n",
    "plt.show()\n"
   ]
  },
  {
   "cell_type": "code",
   "execution_count": 5,
   "metadata": {},
   "outputs": [
    {
     "data": {
      "image/png": "[encoded data removed]",
      "text/plain": [
       "<Figure size 1000x600 with 1 Axes>"
      ]
     },
     "metadata": {},
     "output_type": "display_data"
    }
   ],
   "source": [
    "plt.figure(figsize=(10, 6))\n",
    "recipes['average_rating'].hist(bins=50, color='skyblue', edgecolor='black')\n",
    "plt.xlabel('Rating')\n",
    "plt.ylabel('Number of Recipes Submitted')\n",
    "plt.show()"
   ]
  },
  {
   "cell_type": "code",
   "execution_count": 6,
   "metadata": {},
   "outputs": [
    {
     "data": {
      "text/plain": [
       "0           6\n",
       "1           1\n",
       "2           1\n",
       "3         119\n",
       "4           1\n",
       "         ... \n",
       "178260      1\n",
       "178261      2\n",
       "178262      1\n",
       "178263     29\n",
       "178264      1\n",
       "Name: n_rating, Length: 178265, dtype: int64"
      ]
     },
     "execution_count": 6,
     "metadata": {},
     "output_type": "execute_result"
    }
   ],
   "source": [
    "recipes['n_rating']"
   ]
  },
  {
   "cell_type": "code",
   "execution_count": 10,
   "metadata": {},
   "outputs": [],
   "source": [
    "# plt.figure(figsize=(10, 6))\n",
    "# recipes['n_rating'].hist(bins=1, color='skyblue', edgecolor='black')\n",
    "# plt.xlabel('Num')\n",
    "# plt.ylabel('Number of Recipes Submitted')\n",
    "# plt.show()\n"
   ]
  },
  {
   "cell_type": "code",
   "execution_count": 8,
   "metadata": {},
   "outputs": [
    {
     "name": "stdout",
     "output_type": "stream",
     "text": [
      "68407 122856\n"
     ]
    }
   ],
   "source": [
    "recipes_2000_2005 = recipes[(recipes['submitted'] >= datetime.datetime(2000, 1, 1)) & (recipes['submitted'] < datetime.datetime(2006, 1, 1))]\n",
    "interactions_2000_2005 = interactions[(interactions['date'] >= datetime.datetime(2000, 1, 1)) & (interactions['date'] < datetime.datetime(2006, 1, 1))]\n",
    "print(len(recipes_2000_2005), len(interactions_2000_2005))"
   ]
  }
 ],
 "metadata": {
  "kernelspec": {
   "display_name": ".venv",
   "language": "python",
   "name": "python3"
  },
  "language_info": {
   "codemirror_mode": {
    "name": "ipython",
    "version": 3
   },
   "file_extension": ".py",
   "mimetype": "text/x-python",
   "name": "python",
   "nbconvert_exporter": "python",
   "pygments_lexer": "ipython3",
   "version": "3.10.13"
  }
 },
 "nbformat": 4,
 "nbformat_minor": 2
}
