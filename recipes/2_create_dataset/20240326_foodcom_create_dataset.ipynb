{
 "cells": [
  {
   "cell_type": "markdown",
   "metadata": {},
   "source": [
    "# TODO\n",
    "- レシピデータをCSV出力（低次元化用）\n",
    "- インタラクション・ユーザデータを含むグラフデータを出力（Graph Embedding用）"
   ]
  },
  {
   "cell_type": "code",
   "execution_count": 35,
   "metadata": {},
   "outputs": [],
   "source": [
    "import os,datetime\n",
    "import pandas as pd\n",
    "import numpy as np\n",
    "from ast import literal_eval\n",
    "\n",
    "folder = '../../data/foodcom/'"
   ]
  },
  {
   "cell_type": "code",
   "execution_count": 36,
   "metadata": {},
   "outputs": [
    {
     "data": {
      "text/plain": [
       "'recipe_data'"
      ]
     },
     "metadata": {},
     "output_type": "display_data"
    },
    {
     "data": {
      "text/plain": [
       "178265"
      ]
     },
     "metadata": {},
     "output_type": "display_data"
    },
    {
     "data": {
      "text/html": [
       "<div>\n",
       "<style scoped>\n",
       "    .dataframe tbody tr th:only-of-type {\n",
       "        vertical-align: middle;\n",
       "    }\n",
       "\n",
       "    .dataframe tbody tr th {\n",
       "        vertical-align: top;\n",
       "    }\n",
       "\n",
       "    .dataframe thead th {\n",
       "        text-align: right;\n",
       "    }\n",
       "</style>\n",
       "<table border=\"1\" class=\"dataframe\">\n",
       "  <thead>\n",
       "    <tr style=\"text-align: right;\">\n",
       "      <th></th>\n",
       "      <th>recipe_id</th>\n",
       "      <th>recipe_name</th>\n",
       "      <th>description</th>\n",
       "      <th>n_steps</th>\n",
       "      <th>n_ingredients</th>\n",
       "      <th>ingredient_ids</th>\n",
       "      <th>technique_ids</th>\n",
       "      <th>steps</th>\n",
       "      <th>minutes</th>\n",
       "      <th>contributor_id</th>\n",
       "      <th>submitted</th>\n",
       "      <th>tags</th>\n",
       "      <th>calories</th>\n",
       "      <th>fat</th>\n",
       "      <th>sugar</th>\n",
       "      <th>sodium</th>\n",
       "      <th>protein</th>\n",
       "      <th>saturated fat</th>\n",
       "      <th>carbohydrates</th>\n",
       "    </tr>\n",
       "  </thead>\n",
       "  <tbody>\n",
       "    <tr>\n",
       "      <th>0</th>\n",
       "      <td>424415</td>\n",
       "      <td>aromatic basmati rice  rice cooker</td>\n",
       "      <td>from the ultimate rice cooker cookbook.  the a...</td>\n",
       "      <td>6</td>\n",
       "      <td>5</td>\n",
       "      <td>[389, 7655, 6270, 1527, 3406]</td>\n",
       "      <td>[0, 1]</td>\n",
       "      <td>[rinse the rice in a fine strainer , then drai...</td>\n",
       "      <td>61</td>\n",
       "      <td>496803</td>\n",
       "      <td>2010-05-10</td>\n",
       "      <td>[weeknight, time-to-make, course, main-ingredi...</td>\n",
       "      <td>228.2</td>\n",
       "      <td>2.0</td>\n",
       "      <td>2.0</td>\n",
       "      <td>8.0</td>\n",
       "      <td>9.0</td>\n",
       "      <td>1.0</td>\n",
       "      <td>15.0</td>\n",
       "    </tr>\n",
       "  </tbody>\n",
       "</table>\n",
       "</div>"
      ],
      "text/plain": [
       "   recipe_id                         recipe_name  \\\n",
       "0     424415  aromatic basmati rice  rice cooker   \n",
       "\n",
       "                                         description  n_steps  n_ingredients  \\\n",
       "0  from the ultimate rice cooker cookbook.  the a...        6              5   \n",
       "\n",
       "                  ingredient_ids technique_ids  \\\n",
       "0  [389, 7655, 6270, 1527, 3406]        [0, 1]   \n",
       "\n",
       "                                               steps  minutes  contributor_id  \\\n",
       "0  [rinse the rice in a fine strainer , then drai...       61          496803   \n",
       "\n",
       "   submitted                                               tags  calories  \\\n",
       "0 2010-05-10  [weeknight, time-to-make, course, main-ingredi...     228.2   \n",
       "\n",
       "   fat  sugar  sodium  protein  saturated fat  carbohydrates  \n",
       "0  2.0    2.0     8.0      9.0            1.0           15.0  "
      ]
     },
     "metadata": {},
     "output_type": "display_data"
    },
    {
     "data": {
      "text/plain": [
       "'ingredient_data'"
      ]
     },
     "metadata": {},
     "output_type": "display_data"
    },
    {
     "data": {
      "text/plain": [
       "8023"
      ]
     },
     "metadata": {},
     "output_type": "display_data"
    },
    {
     "data": {
      "text/html": [
       "<div>\n",
       "<style scoped>\n",
       "    .dataframe tbody tr th:only-of-type {\n",
       "        vertical-align: middle;\n",
       "    }\n",
       "\n",
       "    .dataframe tbody tr th {\n",
       "        vertical-align: top;\n",
       "    }\n",
       "\n",
       "    .dataframe thead th {\n",
       "        text-align: right;\n",
       "    }\n",
       "</style>\n",
       "<table border=\"1\" class=\"dataframe\">\n",
       "  <thead>\n",
       "    <tr style=\"text-align: right;\">\n",
       "      <th></th>\n",
       "      <th>ingredient_id</th>\n",
       "      <th>ingredient_name</th>\n",
       "    </tr>\n",
       "  </thead>\n",
       "  <tbody>\n",
       "    <tr>\n",
       "      <th>0</th>\n",
       "      <td>4308</td>\n",
       "      <td>lettuce</td>\n",
       "    </tr>\n",
       "  </tbody>\n",
       "</table>\n",
       "</div>"
      ],
      "text/plain": [
       "   ingredient_id ingredient_name\n",
       "0           4308         lettuce"
      ]
     },
     "metadata": {},
     "output_type": "display_data"
    },
    {
     "data": {
      "text/plain": [
       "'technique_data'"
      ]
     },
     "metadata": {},
     "output_type": "display_data"
    },
    {
     "data": {
      "text/plain": [
       "58"
      ]
     },
     "metadata": {},
     "output_type": "display_data"
    },
    {
     "data": {
      "text/html": [
       "<div>\n",
       "<style scoped>\n",
       "    .dataframe tbody tr th:only-of-type {\n",
       "        vertical-align: middle;\n",
       "    }\n",
       "\n",
       "    .dataframe tbody tr th {\n",
       "        vertical-align: top;\n",
       "    }\n",
       "\n",
       "    .dataframe thead th {\n",
       "        text-align: right;\n",
       "    }\n",
       "</style>\n",
       "<table border=\"1\" class=\"dataframe\">\n",
       "  <thead>\n",
       "    <tr style=\"text-align: right;\">\n",
       "      <th></th>\n",
       "      <th>technique_id</th>\n",
       "      <th>technique_name</th>\n",
       "    </tr>\n",
       "  </thead>\n",
       "  <tbody>\n",
       "    <tr>\n",
       "      <th>0</th>\n",
       "      <td>0</td>\n",
       "      <td>bake</td>\n",
       "    </tr>\n",
       "  </tbody>\n",
       "</table>\n",
       "</div>"
      ],
      "text/plain": [
       "   technique_id technique_name\n",
       "0             0           bake"
      ]
     },
     "metadata": {},
     "output_type": "display_data"
    }
   ],
   "source": [
    "# データの読み込みと前処理\n",
    "raw_recipes = pd.read_csv(folder+\"RAW_recipes.csv\")\n",
    "pp_recipes = pd.read_csv(folder+\"PP_recipes.csv\")\n",
    "\n",
    "# nutrition列を分割して数値に変換\n",
    "raw_recipes[['calories','fat','sugar','sodium','protein','saturated fat','carbohydrates']] = raw_recipes['nutrition']\\\n",
    "    .str.replace('[','').str.replace(']','').str.split(\",\",expand=True).astype('float')\n",
    "\n",
    "raw_recipes['submitted'] = pd.to_datetime(raw_recipes['submitted'], format='%Y-%m-%d')\n",
    "raw_recipes['tags'] = raw_recipes['tags'].apply(literal_eval)\n",
    "raw_recipes['steps'] = raw_recipes['steps'].apply(literal_eval)\n",
    "\n",
    "pp_recipes['ingredient_ids'] = pp_recipes['ingredient_ids'].apply(literal_eval)\n",
    "pp_recipes['techniques'] = pp_recipes['techniques'].apply(literal_eval)\n",
    "\n",
    "# technique_dataをDataFrameに変換\n",
    "technique_data = [\n",
    "    'bake','barbecue','blanch','blend','boil','braise','brine','broil','caramelize','combine','crock pot',\n",
    "    'crush','deglaze','devein','dice','distill','drain','emulsify','ferment','freez','fry','grate','griddle',\n",
    "    'grill','knead','leaven','marinate','mash','melt','microwave','parboil','pickle','poach','pour','pressure cook',\n",
    "    'puree','refrigerat','roast','saute','scald','scramble','shred','simmer','skillet','slow cook','smoke','smooth',\n",
    "    'soak','sous-vide','steam','stew','strain','tenderize','thicken','toast','toss','whip','whisk'\n",
    "]\n",
    "technique_data = pd.DataFrame({'technique_id': range(len(technique_data)), 'technique_name': technique_data})\n",
    "\n",
    "# technique_idsをマッピング\n",
    "pp_recipes['technique_ids'] = pp_recipes['techniques'].apply(lambda x: [i for i, t in zip(range(len(technique_data)), technique_data['technique_id']) if t in x])\n",
    "\n",
    "# データのマージと選択カラムの抽出\n",
    "recipe_data = pp_recipes.merge(right=raw_recipes, on=\"id\")[['id', 'name', 'description', 'n_steps', 'n_ingredients', 'ingredient_ids', 'technique_ids', 'steps', 'minutes', 'contributor_id', 'submitted', 'tags', 'calories', 'fat', 'sugar', 'sodium', 'protein', 'saturated fat', 'carbohydrates']].rename(columns={'id':'recipe_id','name':'recipe_name'})\n",
    "\n",
    "# ingr_map.pklからingredient_dataを取得\n",
    "mapping = pd.read_pickle(folder+\"ingr_map.pkl\")\n",
    "ingredient_data = mapping[~mapping.duplicated(subset='id')][['id','replaced']].rename(columns={'id':'ingredient_id','replaced':'ingredient_name'})\n",
    "\n",
    "# 表示\n",
    "display('recipe_data', len(recipe_data), recipe_data.head(1))\n",
    "display('ingredient_data', len(ingredient_data), ingredient_data.head(1))\n",
    "display('technique_data', len(technique_data), technique_data.head(1))"
   ]
  },
  {
   "cell_type": "code",
   "execution_count": 37,
   "metadata": {},
   "outputs": [],
   "source": [
    "# 辞書を作成して、ルックアップを高速化\n",
    "ingredient_id_to_name = ingredient_data.set_index('ingredient_id')['ingredient_name'].to_dict()\n",
    "technique_id_to_name = technique_data.set_index('technique_id')['technique_name'].to_dict()\n",
    "\n",
    "def replace_ingredient_ids_with_names(ingredient_ids_list):\n",
    "    return [ingredient_id_to_name.get(id) for id in ingredient_ids_list]\n",
    "\n",
    "def replace_technique_ids_with_names(technique_ids_list):\n",
    "    return [technique_id_to_name.get(id) for id in technique_ids_list]\n",
    "\n",
    "# recipe_dataのingredient_idsとtechnique_idsを置換\n",
    "recipe_data['ingredient_names'] = recipe_data['ingredient_ids'].apply(replace_ingredient_ids_with_names)\n",
    "recipe_data['technique_names'] = recipe_data['technique_ids'].apply(replace_technique_ids_with_names)"
   ]
  },
  {
   "cell_type": "code",
   "execution_count": 38,
   "metadata": {},
   "outputs": [
    {
     "data": {
      "text/html": [
       "<div>\n",
       "<style scoped>\n",
       "    .dataframe tbody tr th:only-of-type {\n",
       "        vertical-align: middle;\n",
       "    }\n",
       "\n",
       "    .dataframe tbody tr th {\n",
       "        vertical-align: top;\n",
       "    }\n",
       "\n",
       "    .dataframe thead th {\n",
       "        text-align: right;\n",
       "    }\n",
       "</style>\n",
       "<table border=\"1\" class=\"dataframe\">\n",
       "  <thead>\n",
       "    <tr style=\"text-align: right;\">\n",
       "      <th></th>\n",
       "      <th>recipe_id</th>\n",
       "      <th>recipe_name</th>\n",
       "      <th>description</th>\n",
       "      <th>n_steps</th>\n",
       "      <th>n_ingredients</th>\n",
       "      <th>ingredient_ids</th>\n",
       "      <th>technique_ids</th>\n",
       "      <th>steps</th>\n",
       "      <th>minutes</th>\n",
       "      <th>contributor_id</th>\n",
       "      <th>...</th>\n",
       "      <th>tags</th>\n",
       "      <th>calories</th>\n",
       "      <th>fat</th>\n",
       "      <th>sugar</th>\n",
       "      <th>sodium</th>\n",
       "      <th>protein</th>\n",
       "      <th>saturated fat</th>\n",
       "      <th>carbohydrates</th>\n",
       "      <th>ingredient_names</th>\n",
       "      <th>technique_names</th>\n",
       "    </tr>\n",
       "  </thead>\n",
       "  <tbody>\n",
       "    <tr>\n",
       "      <th>0</th>\n",
       "      <td>424415</td>\n",
       "      <td>aromatic basmati rice  rice cooker</td>\n",
       "      <td>from the ultimate rice cooker cookbook.  the a...</td>\n",
       "      <td>6</td>\n",
       "      <td>5</td>\n",
       "      <td>[389, 7655, 6270, 1527, 3406]</td>\n",
       "      <td>[0, 1]</td>\n",
       "      <td>[rinse the rice in a fine strainer , then drai...</td>\n",
       "      <td>61</td>\n",
       "      <td>496803</td>\n",
       "      <td>...</td>\n",
       "      <td>[weeknight, time-to-make, course, main-ingredi...</td>\n",
       "      <td>228.2</td>\n",
       "      <td>2.0</td>\n",
       "      <td>2.0</td>\n",
       "      <td>8.0</td>\n",
       "      <td>9.0</td>\n",
       "      <td>1.0</td>\n",
       "      <td>15.0</td>\n",
       "      <td>[basmati rice, water, salt, cinnamon stick, gr...</td>\n",
       "      <td>[bake, barbecue]</td>\n",
       "    </tr>\n",
       "  </tbody>\n",
       "</table>\n",
       "<p>1 rows × 21 columns</p>\n",
       "</div>"
      ],
      "text/plain": [
       "   recipe_id                         recipe_name  \\\n",
       "0     424415  aromatic basmati rice  rice cooker   \n",
       "\n",
       "                                         description  n_steps  n_ingredients  \\\n",
       "0  from the ultimate rice cooker cookbook.  the a...        6              5   \n",
       "\n",
       "                  ingredient_ids technique_ids  \\\n",
       "0  [389, 7655, 6270, 1527, 3406]        [0, 1]   \n",
       "\n",
       "                                               steps  minutes  contributor_id  \\\n",
       "0  [rinse the rice in a fine strainer , then drai...       61          496803   \n",
       "\n",
       "   ...                                               tags calories  fat  \\\n",
       "0  ...  [weeknight, time-to-make, course, main-ingredi...    228.2  2.0   \n",
       "\n",
       "   sugar  sodium  protein  saturated fat  carbohydrates  \\\n",
       "0    2.0     8.0      9.0            1.0           15.0   \n",
       "\n",
       "                                    ingredient_names   technique_names  \n",
       "0  [basmati rice, water, salt, cinnamon stick, gr...  [bake, barbecue]  \n",
       "\n",
       "[1 rows x 21 columns]"
      ]
     },
     "execution_count": 38,
     "metadata": {},
     "output_type": "execute_result"
    }
   ],
   "source": [
    "recipe_data.head(1)"
   ]
  },
  {
   "cell_type": "code",
   "execution_count": 39,
   "metadata": {},
   "outputs": [
    {
     "data": {
      "text/plain": [
       "'interaction_data'"
      ]
     },
     "metadata": {},
     "output_type": "display_data"
    },
    {
     "data": {
      "text/plain": [
       "1132367"
      ]
     },
     "metadata": {},
     "output_type": "display_data"
    },
    {
     "data": {
      "text/html": [
       "<div>\n",
       "<style scoped>\n",
       "    .dataframe tbody tr th:only-of-type {\n",
       "        vertical-align: middle;\n",
       "    }\n",
       "\n",
       "    .dataframe tbody tr th {\n",
       "        vertical-align: top;\n",
       "    }\n",
       "\n",
       "    .dataframe thead th {\n",
       "        text-align: right;\n",
       "    }\n",
       "</style>\n",
       "<table border=\"1\" class=\"dataframe\">\n",
       "  <thead>\n",
       "    <tr style=\"text-align: right;\">\n",
       "      <th></th>\n",
       "      <th>user_id</th>\n",
       "      <th>recipe_id</th>\n",
       "      <th>date</th>\n",
       "      <th>rating</th>\n",
       "      <th>review</th>\n",
       "    </tr>\n",
       "  </thead>\n",
       "  <tbody>\n",
       "    <tr>\n",
       "      <th>514604</th>\n",
       "      <td>2008</td>\n",
       "      <td>992</td>\n",
       "      <td>2000-01-25</td>\n",
       "      <td>5</td>\n",
       "      <td>better than any you can get at a restaurant!</td>\n",
       "    </tr>\n",
       "  </tbody>\n",
       "</table>\n",
       "</div>"
      ],
      "text/plain": [
       "        user_id  recipe_id       date  rating  \\\n",
       "514604     2008        992 2000-01-25       5   \n",
       "\n",
       "                                              review  \n",
       "514604  better than any you can get at a restaurant!  "
      ]
     },
     "metadata": {},
     "output_type": "display_data"
    }
   ],
   "source": [
    "interaction_data = pd.read_csv(folder+'RAW_interactions.csv')\n",
    "interaction_data['date'] = interaction_data['date'].apply(lambda x: datetime.datetime.strptime(x,'%Y-%m-%d'))\n",
    "interaction_data = interaction_data.sort_values(by=\"date\")\n",
    "\n",
    "display('interaction_data',len(interaction_data),interaction_data.head(1))\n",
    "# display('user_data',len(user_data),user_data.head(1))"
   ]
  },
  {
   "cell_type": "code",
   "execution_count": 40,
   "metadata": {},
   "outputs": [],
   "source": [
    "recipe_data['description'] = recipe_data['description'].fillna(value='')"
   ]
  },
  {
   "cell_type": "code",
   "execution_count": 41,
   "metadata": {},
   "outputs": [],
   "source": [
    "# レシピデータとインタラクションデータをマージしてから計算することで高速化できます\n",
    "recipe_interaction_data = recipe_data.merge(interaction_data, on='recipe_id', how='left')\n",
    "\n",
    "# 平均評価と評価数を一度に計算する\n",
    "recipe_data['average_rating'] = recipe_interaction_data.groupby('recipe_id')['rating'].mean()\n",
    "recipe_data['n_ratings'] = recipe_interaction_data.groupby('recipe_id')['rating'].count()\n",
    "recipe_data['average_rating'] = recipe_data['average_rating'].fillna(value=0)\n",
    "recipe_data['n_ratings'] = recipe_data['n_ratings'].fillna(value=0)"
   ]
  },
  {
   "cell_type": "code",
   "execution_count": 42,
   "metadata": {},
   "outputs": [
    {
     "name": "stderr",
     "output_type": "stream",
     "text": [
      "/var/folders/xh/x9ctckf564x2bv5ptrtm1wfw0000gn/T/ipykernel_60347/4287966530.py:7: FutureWarning: Downcasting object dtype arrays on .fillna, .ffill, .bfill is deprecated and will change in a future version. Call result.infer_objects(copy=False) instead. To opt-in to the future behavior, set `pd.set_option('future.no_silent_downcasting', True)`\n",
      "  recipe_data['top_1000'] = recipe_data['top_1000'].fillna(False).astype(bool)\n"
     ]
    }
   ],
   "source": [
    "# 評価数が10以上のレシピデータから平均評価と評価数が多い上位1000件をフラグ付けするコード\n",
    "top_rated_recipes = recipe_data[recipe_data['n_ratings'] >= 10].nlargest(1000, ['average_rating', 'n_ratings'])\n",
    "top_rated_recipes['top_1000'] = True\n",
    "\n",
    "# 上位1000件にフラグが立っていないレシピにはFalseを設定\n",
    "recipe_data = recipe_data.merge(top_rated_recipes[['recipe_id', 'top_1000']], on='recipe_id', how='left')\n",
    "recipe_data['top_1000'] = recipe_data['top_1000'].fillna(False).astype(bool)"
   ]
  },
  {
   "cell_type": "code",
   "execution_count": 43,
   "metadata": {},
   "outputs": [],
   "source": [
    "recipe_data = recipe_data.astype({col: int for col in recipe_data.select_dtypes(['int64']).columns})\n",
    "recipe_data = recipe_data.astype({col: float for col in recipe_data.select_dtypes(['float64']).columns})\n",
    "recipe_data['submitted'] = recipe_data['submitted'].dt.strftime('%Y-%m-%d')"
   ]
  },
  {
   "cell_type": "code",
   "execution_count": 44,
   "metadata": {},
   "outputs": [],
   "source": [
    "interaction_data['date'] = interaction_data['date'].dt.strftime('%Y-%m-%d')\n",
    "interaction_data['review'] = interaction_data['review'].fillna(value='')"
   ]
  },
  {
   "cell_type": "code",
   "execution_count": 45,
   "metadata": {},
   "outputs": [],
   "source": [
    "recipe_data.to_csv('../../data/foodcom_recipes.csv', index=False)\n",
    "interaction_data.to_csv('../../data/foodcom_interactions.csv', index=False)"
   ]
  },
  {
   "cell_type": "code",
   "execution_count": 46,
   "metadata": {},
   "outputs": [
    {
     "data": {
      "text/plain": [
       "{'A': [{'data1': 10, 'data2': 100}, {'data1': 20, 'data2': 200}],\n",
       " 'B': [{'data1': 30, 'data2': 300}, {'data1': 40, 'data2': 400}]}"
      ]
     },
     "execution_count": 46,
     "metadata": {},
     "output_type": "execute_result"
    }
   ],
   "source": [
    "import pandas as pd\n",
    "\n",
    "# サンプルDataFrameの作成\n",
    "df = pd.DataFrame({\n",
    "    'group': ['A', 'A', 'B', 'B'],\n",
    "    'data1': [10, 20, 30, 40],\n",
    "    'data2': [100, 200, 300, 400]\n",
    "})\n",
    "\n",
    "# groupカラムでグループ化し、各グループの各列を辞書化したもののリストを値とする辞書を作成\n",
    "result_dict = {group: group_df.drop('group', axis=1).to_dict('records') for group, group_df in df.groupby('group')}\n",
    "\n",
    "result_dict\n"
   ]
  },
  {
   "cell_type": "code",
   "execution_count": 47,
   "metadata": {},
   "outputs": [],
   "source": [
    "# result_dict = {group: group_df.drop('recipe_id', axis=1).to_dict('records') for group, group_df in interaction_data.groupby('recipe_id', sort=False)}\n"
   ]
  },
  {
   "cell_type": "code",
   "execution_count": 48,
   "metadata": {},
   "outputs": [],
   "source": [
    "# for k,v in result_dict.items():\n",
    "#     if len(v) >= 10:\n",
    "#         print(k,len(v))"
   ]
  },
  {
   "cell_type": "code",
   "execution_count": 49,
   "metadata": {},
   "outputs": [],
   "source": [
    "from tqdm import tqdm\n",
    "import json\n",
    "\n",
    "# interaction_dataをレシピIDごとにグループ化し、辞書に格納します。\n",
    "interaction_groups = {group: group_df.drop('recipe_id', axis=1).to_dict('records') for group, group_df in interaction_data.groupby('recipe_id', sort=False)}\n",
    "# レシピデータに対して関数を適用し、必要な情報を含む辞書を作成します。\n",
    "def create_recipe_dict(id, row):\n",
    "    rid = row['recipe_id']\n",
    "    interactions = interaction_groups.get(rid, [])\n",
    "    data = {\n",
    "        'id': rid,\n",
    "        'name': row['recipe_name'],\n",
    "        'description': row['description'],\n",
    "        'tags': row['tags'],\n",
    "        'minutes': row['minutes'],\n",
    "        'contributor_id': row['contributor_id'],\n",
    "        'techniques': {\n",
    "            'num': len(row['technique_ids']),\n",
    "            'names': row['technique_names'],\n",
    "            'ids': row['technique_ids'],\n",
    "        },\n",
    "        'ingredients': {\n",
    "            'num': row['n_ingredients'],\n",
    "            'names': row['ingredient_names'],\n",
    "            'ids': row['ingredient_ids']\n",
    "        },\n",
    "        'steps': {\n",
    "            'num': row['n_steps'],\n",
    "            'instructions': row['steps'],\n",
    "        },\n",
    "        'nutrition': {\n",
    "            'calories': row['calories'],\n",
    "            'protein': row['protein'],\n",
    "            'carbohydrates': row['carbohydrates'],\n",
    "            'fat': row['fat'],\n",
    "            'sugar': row['sugar'],\n",
    "            'sodium': row['sodium'],\n",
    "            'saturated_fat': row['saturated fat'],\n",
    "        },\n",
    "        'rating': {\n",
    "            'interactions': interactions,\n",
    "            'average': row['average_rating'],\n",
    "            'n': row['n_ratings']\n",
    "        },\n",
    "        'top_1000': row['top_1000']\n",
    "    }\n",
    "    return data\n",
    "\n",
    "# tqdmを使用して進捗を表示しながら、apply関数を使用して各行に関数を適用します。\n",
    "json_list = recipe_data.apply(lambda row: create_recipe_dict(row.name, row), axis=1).tolist()"
   ]
  },
  {
   "cell_type": "code",
   "execution_count": 50,
   "metadata": {},
   "outputs": [],
   "source": [
    "import json\n",
    "\n",
    "# jsonl形式で保存するための関数を定義\n",
    "def save_as_jsonl(data_list, file_path):\n",
    "    with open(file_path, 'w', encoding='utf-8') as file:\n",
    "        for item in data_list:\n",
    "            json_record = json.dumps(item, ensure_ascii=False)\n",
    "            file.write(json_record + '\\n')\n",
    "\n",
    "# json_listをjsonlファイルとして保存\n",
    "save_as_jsonl(json_list, '../../data/foodcom_recipes.jsonl')"
   ]
  },
  {
   "cell_type": "code",
   "execution_count": 51,
   "metadata": {},
   "outputs": [
    {
     "data": {
      "text/plain": [
       "[{'user_id': 37449,\n",
       "  'date': '2005-02-01',\n",
       "  'rating': 4,\n",
       "  'review': 'This definitely was a colorful slaw! I enjoyed the flavors of the cumin and chili powder. The balsamic vinegar was a nice touch too. Thanks Jewell!'}]"
      ]
     },
     "execution_count": 51,
     "metadata": {},
     "output_type": "execute_result"
    }
   ],
   "source": [
    "interactions = interaction_groups.get(109432, [])\n",
    "interactions"
   ]
  }
 ],
 "metadata": {
  "kernelspec": {
   "display_name": "Python 3.9.7 ('food_world-3zG8zsGf')",
   "language": "python",
   "name": "python3"
  },
  "language_info": {
   "codemirror_mode": {
    "name": "ipython",
    "version": 3
   },
   "file_extension": ".py",
   "mimetype": "text/x-python",
   "name": "python",
   "nbconvert_exporter": "python",
   "pygments_lexer": "ipython3",
   "version": "3.10.13"
  },
  "orig_nbformat": 4,
  "vscode": {
   "interpreter": {
    "hash": "264dd43cc807d28579244a3ef2e63597de8a884397cbd5fa108abd5d7f524f60"
   }
  }
 },
 "nbformat": 4,
 "nbformat_minor": 2
}
